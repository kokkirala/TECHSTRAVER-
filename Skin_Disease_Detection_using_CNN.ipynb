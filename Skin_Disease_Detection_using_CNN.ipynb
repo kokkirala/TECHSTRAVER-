{
  "nbformat": 4,
  "nbformat_minor": 0,
  "metadata": {
    "colab": {
      "provenance": []
    },
    "kernelspec": {
      "name": "python3",
      "display_name": "Python 3"
    },
    "language_info": {
      "name": "python"
    }
  },
  "cells": [
    {
      "cell_type": "markdown",
      "source": [
        "# **Mounting the Drive in Google Colab**"
      ],
      "metadata": {
        "id": "GXsb6AKN-JEi"
      }
    },
    {
      "cell_type": "code",
      "source": [
        "from google.colab import drive\n",
        "drive.mount('/content/drive/')"
      ],
      "metadata": {
        "id": "sIoC15q7Fhic",
        "colab": {
          "base_uri": "https://localhost:8080/"
        },
        "outputId": "ecf8eae8-2097-426b-92a0-8364908a9329"
      },
      "execution_count": null,
      "outputs": [
        {
          "output_type": "stream",
          "name": "stdout",
          "text": [
            "Mounted at /content/drive/\n"
          ]
        }
      ]
    },
    {
      "cell_type": "markdown",
      "source": [
        "# **Define Paths for Training and Testing Datasets**"
      ],
      "metadata": {
        "id": "rVUjD3cZ-DTX"
      }
    },
    {
      "cell_type": "code",
      "source": [
        "# Define the paths to the training and testing datasets\n",
        "train_data_dir = '/content/drive/MyDrive/Colab Notebooks/skin-disease-datasaet/train_set'  # Replace with your actual path\n",
        "test_data_dir = '/content/drive/MyDrive/Colab Notebooks/skin-disease-datasaet/test_set'    # Replace with your actual path\n",
        "img_size = 128"
      ],
      "metadata": {
        "id": "_gYcKzlzCxJL"
      },
      "execution_count": null,
      "outputs": []
    },
    {
      "cell_type": "markdown",
      "source": [
        "# **Load and Preprocess Data**"
      ],
      "metadata": {
        "id": "brR2iRMx98sb"
      }
    },
    {
      "cell_type": "code",
      "source": [
        "import os\n",
        "import cv2\n",
        "import numpy as np\n",
        "\n",
        "def load_data(data_dir, img_size):\n",
        "    images = []\n",
        "    labels = []\n",
        "    class_names = sorted(os.listdir(data_dir))  # Ensure classes are sorted\n",
        "    for label, class_name in enumerate(class_names):\n",
        "        class_dir = os.path.join(data_dir, class_name)\n",
        "        for img_name in os.listdir(class_dir):\n",
        "            img_path = os.path.join(class_dir, img_name)\n",
        "            try:\n",
        "                img = cv2.imread(img_path)\n",
        "                if img is not None:\n",
        "                    img = cv2.resize(img, (img_size, img_size))\n",
        "                    images.append(img)\n",
        "                    labels.append(label)\n",
        "            except Exception as e:\n",
        "                print(f\"Error loading image {img_path}: {e}\")\n",
        "    images = np.array(images) / 255.0  # Normalize images\n",
        "    labels = np.array(labels)\n",
        "    return images, labels, class_names\n",
        "\n",
        "# Load training and testing data\n",
        "x_train, y_train, class_names = load_data(train_data_dir, img_size)\n",
        "x_test, y_test, _ = load_data(test_data_dir, img_size)\n",
        "\n",
        "print(f'Loaded {len(x_train)} training images with {len(class_names)} classes.')\n",
        "print(f'Loaded {len(x_test)} testing images.')\n"
      ],
      "metadata": {
        "id": "NwFkFyYWC7As",
        "colab": {
          "base_uri": "https://localhost:8080/"
        },
        "outputId": "d779fd7f-b7d8-49ac-ee78-85e4abf8e036"
      },
      "execution_count": null,
      "outputs": [
        {
          "output_type": "stream",
          "name": "stdout",
          "text": [
            "Loaded 930 training images with 8 classes.\n",
            "Loaded 234 testing images.\n"
          ]
        }
      ]
    },
    {
      "cell_type": "markdown",
      "source": [
        "# **Split Training Data into Training and Validation Sets**"
      ],
      "metadata": {
        "id": "T-yAmaFelbIV"
      }
    },
    {
      "cell_type": "code",
      "source": [
        "from sklearn.model_selection import train_test_split\n",
        "\n",
        "x_train, x_val, y_train, y_val = train_test_split(x_train, y_train, test_size=0.3, random_state=42)\n",
        "print(f'Training set: {len(x_train)} images, Validation set: {len(x_val)} images')\n"
      ],
      "metadata": {
        "colab": {
          "base_uri": "https://localhost:8080/"
        },
        "id": "DXFWcgMflfv9",
        "outputId": "26fb0af5-0fb0-404f-a7c0-65092bfe11e6"
      },
      "execution_count": null,
      "outputs": [
        {
          "output_type": "stream",
          "name": "stdout",
          "text": [
            "Training set: 651 images, Validation set: 279 images\n"
          ]
        }
      ]
    },
    {
      "cell_type": "markdown",
      "source": [
        "# **Data Augmentation**"
      ],
      "metadata": {
        "id": "6dpqOVgx92oV"
      }
    },
    {
      "cell_type": "code",
      "source": [
        "from tensorflow.keras.preprocessing.image import ImageDataGenerator\n",
        "\n",
        "datagen = ImageDataGenerator(\n",
        "    rotation_range=20,\n",
        "    width_shift_range=0.2,\n",
        "    height_shift_range=0.2,\n",
        "    horizontal_flip=True,\n",
        "    zoom_range=0.2,\n",
        "    shear_range=0.2\n",
        ")\n",
        "datagen.fit(x_train)\n"
      ],
      "metadata": {
        "id": "rNyMUmrVC-Ag"
      },
      "execution_count": null,
      "outputs": []
    },
    {
      "cell_type": "markdown",
      "source": [
        "# **Build the CNN Model**"
      ],
      "metadata": {
        "id": "MOSnVPRT9xTc"
      }
    },
    {
      "cell_type": "code",
      "source": [
        "from tensorflow.keras.models import Sequential\n",
        "from tensorflow.keras.layers import Conv2D, MaxPooling2D, Flatten, Dense, Dropout\n",
        "\n",
        "model = Sequential([\n",
        "    Conv2D(32, (3, 3), activation='relu', input_shape=(img_size, img_size, 3)),\n",
        "    MaxPooling2D((2, 2)),\n",
        "    Conv2D(64, (3, 3), activation='relu'),\n",
        "    MaxPooling2D((2, 2)),\n",
        "    Conv2D(128, (3, 3), activation='relu'),\n",
        "    MaxPooling2D((2, 2)),\n",
        "    Flatten(),\n",
        "    Dense(128, activation='relu'),\n",
        "    Dropout(0.5),\n",
        "    Dense(len(class_names), activation='softmax')\n",
        "])\n",
        "\n",
        "model.compile(optimizer='adam', loss='sparse_categorical_crossentropy', metrics=['accuracy'])\n",
        "model.summary()\n",
        "\n"
      ],
      "metadata": {
        "id": "wRDkRHifDDE8",
        "colab": {
          "base_uri": "https://localhost:8080/"
        },
        "outputId": "5ab6af1b-171c-4731-aca3-4124402fcd53"
      },
      "execution_count": null,
      "outputs": [
        {
          "output_type": "stream",
          "name": "stdout",
          "text": [
            "Model: \"sequential\"\n",
            "_________________________________________________________________\n",
            " Layer (type)                Output Shape              Param #   \n",
            "=================================================================\n",
            " conv2d (Conv2D)             (None, 126, 126, 32)      896       \n",
            "                                                                 \n",
            " max_pooling2d (MaxPooling2  (None, 63, 63, 32)        0         \n",
            " D)                                                              \n",
            "                                                                 \n",
            " conv2d_1 (Conv2D)           (None, 61, 61, 64)        18496     \n",
            "                                                                 \n",
            " max_pooling2d_1 (MaxPoolin  (None, 30, 30, 64)        0         \n",
            " g2D)                                                            \n",
            "                                                                 \n",
            " conv2d_2 (Conv2D)           (None, 28, 28, 128)       73856     \n",
            "                                                                 \n",
            " max_pooling2d_2 (MaxPoolin  (None, 14, 14, 128)       0         \n",
            " g2D)                                                            \n",
            "                                                                 \n",
            " flatten (Flatten)           (None, 25088)             0         \n",
            "                                                                 \n",
            " dense (Dense)               (None, 128)               3211392   \n",
            "                                                                 \n",
            " dropout (Dropout)           (None, 128)               0         \n",
            "                                                                 \n",
            " dense_1 (Dense)             (None, 8)                 1032      \n",
            "                                                                 \n",
            "=================================================================\n",
            "Total params: 3305672 (12.61 MB)\n",
            "Trainable params: 3305672 (12.61 MB)\n",
            "Non-trainable params: 0 (0.00 Byte)\n",
            "_________________________________________________________________\n"
          ]
        }
      ]
    },
    {
      "cell_type": "markdown",
      "source": [
        "# **Train the Model**"
      ],
      "metadata": {
        "id": "llve6a129q4S"
      }
    },
    {
      "cell_type": "code",
      "source": [
        "from tensorflow.keras.callbacks import EarlyStopping, ModelCheckpoint\n",
        "\n",
        "callbacks = [\n",
        "    EarlyStopping(patience=10, restore_best_weights=True),\n",
        "    ModelCheckpoint('best_model.h5', save_best_only=True)\n",
        "]\n",
        "\n",
        "history = model.fit(\n",
        "    datagen.flow(x_train, y_train, batch_size=32),\n",
        "    validation_data=(x_val, y_val),\n",
        "    epochs=50,\n",
        "    callbacks=callbacks\n",
        ")\n"
      ],
      "metadata": {
        "id": "MzFikUUfDHWk",
        "colab": {
          "base_uri": "https://localhost:8080/"
        },
        "outputId": "d8a40991-50e2-4b0a-e4e5-4906470c5885"
      },
      "execution_count": null,
      "outputs": [
        {
          "output_type": "stream",
          "name": "stdout",
          "text": [
            "Epoch 1/50\n",
            "21/21 [==============================] - 29s 1s/step - loss: 2.1023 - accuracy: 0.1367 - val_loss: 2.0674 - val_accuracy: 0.1434\n",
            "Epoch 2/50\n"
          ]
        },
        {
          "output_type": "stream",
          "name": "stderr",
          "text": [
            "/usr/local/lib/python3.10/dist-packages/keras/src/engine/training.py:3103: UserWarning: You are saving your model as an HDF5 file via `model.save()`. This file format is considered legacy. We recommend using instead the native Keras format, e.g. `model.save('my_model.keras')`.\n",
            "  saving_api.save_model(\n"
          ]
        },
        {
          "output_type": "stream",
          "name": "stdout",
          "text": [
            "21/21 [==============================] - 26s 1s/step - loss: 2.0420 - accuracy: 0.1628 - val_loss: 1.9961 - val_accuracy: 0.2688\n",
            "Epoch 3/50\n",
            "21/21 [==============================] - 25s 1s/step - loss: 1.9990 - accuracy: 0.2197 - val_loss: 1.9201 - val_accuracy: 0.2903\n",
            "Epoch 4/50\n",
            "21/21 [==============================] - 23s 1s/step - loss: 1.9785 - accuracy: 0.2227 - val_loss: 1.8763 - val_accuracy: 0.3297\n",
            "Epoch 5/50\n",
            "21/21 [==============================] - 26s 1s/step - loss: 1.9000 - accuracy: 0.2688 - val_loss: 1.8258 - val_accuracy: 0.3226\n",
            "Epoch 6/50\n",
            "21/21 [==============================] - 27s 1s/step - loss: 1.8989 - accuracy: 0.2381 - val_loss: 1.8319 - val_accuracy: 0.3369\n",
            "Epoch 7/50\n",
            "21/21 [==============================] - 31s 1s/step - loss: 1.8917 - accuracy: 0.2611 - val_loss: 1.8828 - val_accuracy: 0.2832\n",
            "Epoch 8/50\n",
            "21/21 [==============================] - 24s 1s/step - loss: 1.8735 - accuracy: 0.2965 - val_loss: 1.6933 - val_accuracy: 0.3835\n",
            "Epoch 9/50\n",
            "21/21 [==============================] - 25s 1s/step - loss: 1.8360 - accuracy: 0.2873 - val_loss: 1.6804 - val_accuracy: 0.3513\n",
            "Epoch 10/50\n",
            "21/21 [==============================] - 25s 1s/step - loss: 1.7890 - accuracy: 0.3149 - val_loss: 1.5647 - val_accuracy: 0.4409\n",
            "Epoch 11/50\n",
            "21/21 [==============================] - 26s 1s/step - loss: 1.7480 - accuracy: 0.3210 - val_loss: 1.5287 - val_accuracy: 0.4982\n",
            "Epoch 12/50\n",
            "21/21 [==============================] - 29s 1s/step - loss: 1.7750 - accuracy: 0.3349 - val_loss: 1.6405 - val_accuracy: 0.4229\n",
            "Epoch 13/50\n",
            "21/21 [==============================] - 25s 1s/step - loss: 1.7210 - accuracy: 0.3364 - val_loss: 1.4495 - val_accuracy: 0.4946\n",
            "Epoch 14/50\n",
            "21/21 [==============================] - 26s 1s/step - loss: 1.6860 - accuracy: 0.3733 - val_loss: 1.4311 - val_accuracy: 0.4659\n",
            "Epoch 15/50\n",
            "21/21 [==============================] - 27s 1s/step - loss: 1.6888 - accuracy: 0.3456 - val_loss: 1.5024 - val_accuracy: 0.4552\n",
            "Epoch 16/50\n",
            "21/21 [==============================] - 25s 1s/step - loss: 1.6339 - accuracy: 0.3886 - val_loss: 1.4103 - val_accuracy: 0.4695\n",
            "Epoch 17/50\n",
            "21/21 [==============================] - 25s 1s/step - loss: 1.6305 - accuracy: 0.3886 - val_loss: 1.3509 - val_accuracy: 0.5090\n",
            "Epoch 18/50\n",
            "21/21 [==============================] - 24s 1s/step - loss: 1.5619 - accuracy: 0.3978 - val_loss: 1.2887 - val_accuracy: 0.5412\n",
            "Epoch 19/50\n",
            "21/21 [==============================] - 25s 1s/step - loss: 1.5410 - accuracy: 0.4209 - val_loss: 1.3227 - val_accuracy: 0.5305\n",
            "Epoch 20/50\n",
            "21/21 [==============================] - 25s 1s/step - loss: 1.5477 - accuracy: 0.3948 - val_loss: 1.3311 - val_accuracy: 0.5233\n",
            "Epoch 21/50\n",
            "21/21 [==============================] - 24s 1s/step - loss: 1.4927 - accuracy: 0.4470 - val_loss: 1.2835 - val_accuracy: 0.5412\n",
            "Epoch 22/50\n",
            "21/21 [==============================] - 27s 1s/step - loss: 1.4666 - accuracy: 0.4562 - val_loss: 1.2358 - val_accuracy: 0.5591\n",
            "Epoch 23/50\n",
            "21/21 [==============================] - 27s 1s/step - loss: 1.4552 - accuracy: 0.4731 - val_loss: 1.2739 - val_accuracy: 0.5484\n",
            "Epoch 24/50\n",
            "21/21 [==============================] - 24s 1s/step - loss: 1.4839 - accuracy: 0.4547 - val_loss: 1.2183 - val_accuracy: 0.5735\n",
            "Epoch 25/50\n",
            "21/21 [==============================] - 25s 1s/step - loss: 1.4495 - accuracy: 0.4393 - val_loss: 1.2402 - val_accuracy: 0.5771\n",
            "Epoch 26/50\n",
            "21/21 [==============================] - 25s 1s/step - loss: 1.4757 - accuracy: 0.4332 - val_loss: 1.1868 - val_accuracy: 0.5771\n",
            "Epoch 27/50\n",
            "21/21 [==============================] - 29s 1s/step - loss: 1.3622 - accuracy: 0.5023 - val_loss: 1.1932 - val_accuracy: 0.5878\n",
            "Epoch 28/50\n",
            "21/21 [==============================] - 25s 1s/step - loss: 1.4056 - accuracy: 0.4670 - val_loss: 1.2554 - val_accuracy: 0.5341\n",
            "Epoch 29/50\n",
            "21/21 [==============================] - 25s 1s/step - loss: 1.4117 - accuracy: 0.4731 - val_loss: 1.1523 - val_accuracy: 0.6272\n",
            "Epoch 30/50\n",
            "21/21 [==============================] - 26s 1s/step - loss: 1.3400 - accuracy: 0.4962 - val_loss: 1.1446 - val_accuracy: 0.6022\n",
            "Epoch 31/50\n",
            "21/21 [==============================] - 24s 1s/step - loss: 1.3179 - accuracy: 0.5023 - val_loss: 1.1249 - val_accuracy: 0.6201\n",
            "Epoch 32/50\n",
            "21/21 [==============================] - 26s 1s/step - loss: 1.3717 - accuracy: 0.4869 - val_loss: 1.1373 - val_accuracy: 0.6093\n",
            "Epoch 33/50\n",
            "21/21 [==============================] - 25s 1s/step - loss: 1.3207 - accuracy: 0.5131 - val_loss: 1.0851 - val_accuracy: 0.6380\n",
            "Epoch 34/50\n",
            "21/21 [==============================] - 23s 1s/step - loss: 1.2681 - accuracy: 0.5346 - val_loss: 1.1273 - val_accuracy: 0.5914\n",
            "Epoch 35/50\n",
            "21/21 [==============================] - 26s 1s/step - loss: 1.3786 - accuracy: 0.5038 - val_loss: 1.1996 - val_accuracy: 0.5986\n",
            "Epoch 36/50\n",
            "21/21 [==============================] - 25s 1s/step - loss: 1.2860 - accuracy: 0.5192 - val_loss: 1.1632 - val_accuracy: 0.5986\n",
            "Epoch 37/50\n",
            "21/21 [==============================] - 24s 1s/step - loss: 1.2326 - accuracy: 0.5330 - val_loss: 1.0941 - val_accuracy: 0.6272\n",
            "Epoch 38/50\n",
            "21/21 [==============================] - 26s 1s/step - loss: 1.2495 - accuracy: 0.5330 - val_loss: 1.0120 - val_accuracy: 0.6846\n",
            "Epoch 39/50\n",
            "21/21 [==============================] - 26s 1s/step - loss: 1.2195 - accuracy: 0.5361 - val_loss: 1.0679 - val_accuracy: 0.6487\n",
            "Epoch 40/50\n",
            "21/21 [==============================] - 23s 1s/step - loss: 1.1751 - accuracy: 0.5607 - val_loss: 0.9790 - val_accuracy: 0.6703\n",
            "Epoch 41/50\n",
            "21/21 [==============================] - 26s 1s/step - loss: 1.2266 - accuracy: 0.5653 - val_loss: 1.0506 - val_accuracy: 0.6487\n",
            "Epoch 42/50\n",
            "21/21 [==============================] - 24s 1s/step - loss: 1.2201 - accuracy: 0.5407 - val_loss: 1.1145 - val_accuracy: 0.5950\n",
            "Epoch 43/50\n",
            "21/21 [==============================] - 23s 1s/step - loss: 1.1637 - accuracy: 0.5945 - val_loss: 0.9799 - val_accuracy: 0.6559\n",
            "Epoch 44/50\n",
            "21/21 [==============================] - 27s 1s/step - loss: 1.1514 - accuracy: 0.5868 - val_loss: 1.0194 - val_accuracy: 0.6487\n",
            "Epoch 45/50\n",
            "21/21 [==============================] - 25s 1s/step - loss: 1.1178 - accuracy: 0.5760 - val_loss: 1.0070 - val_accuracy: 0.6738\n",
            "Epoch 46/50\n",
            "21/21 [==============================] - 25s 1s/step - loss: 1.1014 - accuracy: 0.5975 - val_loss: 0.9787 - val_accuracy: 0.7025\n",
            "Epoch 47/50\n",
            "21/21 [==============================] - 27s 1s/step - loss: 1.1387 - accuracy: 0.5699 - val_loss: 1.1348 - val_accuracy: 0.6093\n",
            "Epoch 48/50\n",
            "21/21 [==============================] - 24s 1s/step - loss: 1.2204 - accuracy: 0.5392 - val_loss: 0.9924 - val_accuracy: 0.6882\n",
            "Epoch 49/50\n",
            "21/21 [==============================] - 24s 1s/step - loss: 1.0866 - accuracy: 0.6006 - val_loss: 0.9489 - val_accuracy: 0.6774\n",
            "Epoch 50/50\n",
            "21/21 [==============================] - 24s 1s/step - loss: 1.0656 - accuracy: 0.6022 - val_loss: 0.9898 - val_accuracy: 0.6667\n"
          ]
        }
      ]
    },
    {
      "cell_type": "markdown",
      "source": [
        "# **Evaluate the Model**"
      ],
      "metadata": {
        "id": "PRmYWUun9lp9"
      }
    },
    {
      "cell_type": "code",
      "source": [
        "from sklearn.metrics import classification_report, confusion_matrix\n",
        "import seaborn as sns\n",
        "import matplotlib.pyplot as plt\n",
        "\n",
        "# Load the best weights\n",
        "model.load_weights('best_model.h5')\n",
        "\n",
        "# Evaluate on the test set\n",
        "test_loss, test_acc = model.evaluate(x_test, y_test, verbose=2)\n",
        "print(f'Test accuracy: {test_acc:.4f}')\n",
        "\n",
        "# Predict on the test set\n",
        "y_pred = np.argmax(model.predict(x_test), axis=1)\n",
        "\n",
        "# Generate classification report\n",
        "print(classification_report(y_test, y_pred, target_names=class_names))\n",
        "\n",
        "# Plot confusion matrix\n",
        "conf_matrix = confusion_matrix(y_test, y_pred)\n",
        "plt.figure(figsize=(10, 8))\n",
        "plt.title('Confusion Matrix')\n",
        "sns.heatmap(conf_matrix, annot=True, fmt='d', cmap='Blues', xticklabels=class_names, yticklabels=class_names)\n",
        "plt.xlabel('Predicted Label')\n",
        "plt.ylabel('True Label')\n",
        "plt.show()\n"
      ],
      "metadata": {
        "id": "2vyxgWb7DJ-Y",
        "colab": {
          "base_uri": "https://localhost:8080/",
          "height": 1000
        },
        "outputId": "d1b60df7-ca5e-41d5-ecb5-162b2ea5fe70"
      },
      "execution_count": null,
      "outputs": [
        {
          "output_type": "stream",
          "name": "stdout",
          "text": [
            "8/8 - 3s - loss: 1.0312 - accuracy: 0.6282 - 3s/epoch - 425ms/step\n",
            "Test accuracy: 0.6282\n",
            "8/8 [==============================] - 4s 553ms/step\n",
            "                            precision    recall  f1-score   support\n",
            "\n",
            "            BA- cellulitis       0.71      0.65      0.68        34\n",
            "               BA-impetigo       0.40      0.30      0.34        20\n",
            "           FU-athlete-foot       0.62      0.94      0.75        32\n",
            "            FU-nail-fungus       0.77      0.52      0.62        33\n",
            "               FU-ringworm       0.50      0.35      0.41        23\n",
            "PA-cutaneous-larva-migrans       0.50      0.40      0.44        25\n",
            "             VI-chickenpox       0.70      0.91      0.79        34\n",
            "               VI-shingles       0.61      0.70      0.65        33\n",
            "\n",
            "                  accuracy                           0.63       234\n",
            "                 macro avg       0.60      0.59      0.59       234\n",
            "              weighted avg       0.62      0.63      0.61       234\n",
            "\n"
          ]
        },
        {
          "output_type": "display_data",
          "data": {
            "text/plain": [
              "<Figure size 1000x800 with 2 Axes>"
            ],
            "image/png": "[encoded data removed]"
          },
          "metadata": {}
        }
      ]
    },
    {
      "cell_type": "markdown",
      "source": [
        "# Save the Model"
      ],
      "metadata": {
        "id": "rDNvqCXy9cUj"
      }
    },
    {
      "cell_type": "code",
      "source": [
        "model.save('skin_disease_detection_model.h5')\n"
      ],
      "metadata": {
        "id": "aRCd0swy9apN",
        "colab": {
          "base_uri": "https://localhost:8080/"
        },
        "outputId": "a5cccbf9-f850-4917-f01f-1d771fdd1a29"
      },
      "execution_count": null,
      "outputs": [
        {
          "output_type": "stream",
          "name": "stderr",
          "text": [
            "/usr/local/lib/python3.10/dist-packages/keras/src/engine/training.py:3103: UserWarning: You are saving your model as an HDF5 file via `model.save()`. This file format is considered legacy. We recommend using instead the native Keras format, e.g. `model.save('my_model.keras')`.\n",
            "  saving_api.save_model(\n"
          ]
        }
      ]
    }
  ]
}